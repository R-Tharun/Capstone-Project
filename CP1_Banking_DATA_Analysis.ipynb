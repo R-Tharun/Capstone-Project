{
 "cells": [
  {
   "cell_type": "code",
   "execution_count": 1,
   "id": "f9fb6cb3-1da4-4b95-8f75-ab712c76fdfe",
   "metadata": {},
   "outputs": [],
   "source": [
    "import pandas as pd\n",
    "import numpy as np"
   ]
  },
  {
   "cell_type": "code",
   "execution_count": 3,
   "id": "bf7421f2-b19a-4b19-a251-701f29653eb9",
   "metadata": {},
   "outputs": [],
   "source": [
    "# Load the datasets\n",
    "investment_advisors = pd.read_csv(r\"C:\\Users\\tharu\\Downloads\\datasets-20250704T043018Z-1-001\\datasets\\investment-advisiors.csv\")\n",
    "banking_relationships = pd.read_csv(r\"C:\\Users\\tharu\\Downloads\\datasets-20250704T043018Z-1-001\\datasets\\banking-realtionships.csv\")\n",
    "gender = pd.read_csv(r\"C:\\Users\\tharu\\Downloads\\datasets-20250704T043018Z-1-001\\datasets\\gender.csv\")\n",
    "banking_clients = pd.read_csv(r\"C:\\Users\\tharu\\Downloads\\datasets-20250704T043018Z-1-001\\datasets\\banking-clients.csv\")"
   ]
  },
  {
   "cell_type": "code",
   "execution_count": 4,
   "id": "fbdad9f8-ad30-4dd4-a2c4-6f8441bf9474",
   "metadata": {},
   "outputs": [
    {
     "name": "stdout",
     "output_type": "stream",
     "text": [
      "Investment Advisors:\n",
      "   IAId Investment Advisor\n",
      "0     1        Victor Dean\n",
      "1     2      Jeremy Porter\n",
      "2     3      Ernest Knight\n",
      "3     4          Eric Shaw\n",
      "4     5          Kevin Kim\n",
      "\n",
      "Banking Relationships:\n",
      "   BRId Banking Relationship\n",
      "0     1               Retail\n",
      "1     2        Institutional\n",
      "2     3         Private Bank\n",
      "3     4           Commercial\n",
      "\n",
      "Gender:\n",
      "   GenderId  Gender\n",
      "0         1    Male\n",
      "1         2  Female\n",
      "\n",
      "Banking Clients:\n",
      "  Client ID             Name  Age  Location ID Joined Bank   Banking Contact  \\\n",
      "0  IND81288    Raymond Mills   24        34324  06-05-2019    Anthony Torres   \n",
      "1  IND65833    Julia Spencer   23        42205  10-12-2001  Jonathan Hawkins   \n",
      "2  IND47499   Stephen Murray   27         7314  25-01-2010     Anthony Berry   \n",
      "3  IND72498   Virginia Garza   40        34594  28-03-2019        Steve Diaz   \n",
      "4  IND60181  Melissa Sanders   46        41269  20-07-2012        Shawn Long   \n",
      "\n",
      "  Nationality            Occupation Fee Structure Loyalty Classification  ...  \\\n",
      "0    American  Safety Technician IV          High                   Jade  ...   \n",
      "1     African   Software Consultant          High                   Jade  ...   \n",
      "2    European    Help Desk Operator          High                   Gold  ...   \n",
      "3    American          Geologist II           Mid                 Silver  ...   \n",
      "4    American   Assistant Professor           Mid               Platinum  ...   \n",
      "\n",
      "   Bank Deposits  Checking Accounts  Saving Accounts  \\\n",
      "0     1485828.64          603617.88        607332.46   \n",
      "1      641482.79          229521.37        344635.16   \n",
      "2     1033401.59          652674.69        203054.35   \n",
      "3     1048157.49         1048157.49        234685.02   \n",
      "4      487782.53          446644.25        128351.45   \n",
      "\n",
      "   Foreign Currency Account  Business Lending  Properties Owned  \\\n",
      "0                  12249.96        1134475.30                 1   \n",
      "1                  61162.31        2000526.10                 1   \n",
      "2                  79071.78         548137.58                 1   \n",
      "3                  57513.65        1148402.29                 0   \n",
      "4                  30012.14        1674412.12                 0   \n",
      "\n",
      "   Risk Weighting  BRId  GenderId  IAId  \n",
      "0               2     1         1     1  \n",
      "1               3     2         1     2  \n",
      "2               3     3         2     3  \n",
      "3               4     4         1     4  \n",
      "4               3     1         2     5  \n",
      "\n",
      "[5 rows x 25 columns]\n"
     ]
    }
   ],
   "source": [
    "\n",
    "# Display the first few rows of each dataset\n",
    "print(\"Investment Advisors:\")\n",
    "print(investment_advisors.head())\n",
    "print(\"\\nBanking Relationships:\")\n",
    "print(banking_relationships.head())\n",
    "print(\"\\nGender:\")\n",
    "print(gender.head())\n",
    "print(\"\\nBanking Clients:\")\n",
    "print(banking_clients.head())"
   ]
  },
  {
   "cell_type": "code",
   "execution_count": 5,
   "id": "7288d573-bcec-4507-b4b3-561a9853d43b",
   "metadata": {},
   "outputs": [
    {
     "name": "stdout",
     "output_type": "stream",
     "text": [
      "Investment Advisors Info:\n",
      "<class 'pandas.core.frame.DataFrame'>\n",
      "RangeIndex: 22 entries, 0 to 21\n",
      "Data columns (total 2 columns):\n",
      " #   Column              Non-Null Count  Dtype \n",
      "---  ------              --------------  ----- \n",
      " 0   IAId                22 non-null     int64 \n",
      " 1   Investment Advisor  22 non-null     object\n",
      "dtypes: int64(1), object(1)\n",
      "memory usage: 484.0+ bytes\n",
      "None\n",
      "\n",
      "Banking Relationships Info:\n",
      "<class 'pandas.core.frame.DataFrame'>\n",
      "RangeIndex: 4 entries, 0 to 3\n",
      "Data columns (total 2 columns):\n",
      " #   Column                Non-Null Count  Dtype \n",
      "---  ------                --------------  ----- \n",
      " 0   BRId                  4 non-null      int64 \n",
      " 1   Banking Relationship  4 non-null      object\n",
      "dtypes: int64(1), object(1)\n",
      "memory usage: 196.0+ bytes\n",
      "None\n",
      "\n",
      "Gender Info:\n",
      "<class 'pandas.core.frame.DataFrame'>\n",
      "RangeIndex: 2 entries, 0 to 1\n",
      "Data columns (total 2 columns):\n",
      " #   Column    Non-Null Count  Dtype \n",
      "---  ------    --------------  ----- \n",
      " 0   GenderId  2 non-null      int64 \n",
      " 1   Gender    2 non-null      object\n",
      "dtypes: int64(1), object(1)\n",
      "memory usage: 164.0+ bytes\n",
      "None\n",
      "\n",
      "Banking Clients Info:\n",
      "<class 'pandas.core.frame.DataFrame'>\n",
      "RangeIndex: 3000 entries, 0 to 2999\n",
      "Data columns (total 25 columns):\n",
      " #   Column                    Non-Null Count  Dtype  \n",
      "---  ------                    --------------  -----  \n",
      " 0   Client ID                 3000 non-null   object \n",
      " 1   Name                      3000 non-null   object \n",
      " 2   Age                       3000 non-null   int64  \n",
      " 3   Location ID               3000 non-null   int64  \n",
      " 4   Joined Bank               3000 non-null   object \n",
      " 5   Banking Contact           3000 non-null   object \n",
      " 6   Nationality               3000 non-null   object \n",
      " 7   Occupation                3000 non-null   object \n",
      " 8   Fee Structure             3000 non-null   object \n",
      " 9   Loyalty Classification    3000 non-null   object \n",
      " 10  Estimated Income          3000 non-null   float64\n",
      " 11  Superannuation Savings    3000 non-null   float64\n",
      " 12  Amount of Credit Cards    3000 non-null   int64  \n",
      " 13  Credit Card Balance       3000 non-null   float64\n",
      " 14  Bank Loans                3000 non-null   float64\n",
      " 15  Bank Deposits             3000 non-null   float64\n",
      " 16  Checking Accounts         3000 non-null   float64\n",
      " 17  Saving Accounts           3000 non-null   float64\n",
      " 18  Foreign Currency Account  3000 non-null   float64\n",
      " 19  Business Lending          3000 non-null   float64\n",
      " 20  Properties Owned          3000 non-null   int64  \n",
      " 21  Risk Weighting            3000 non-null   int64  \n",
      " 22  BRId                      3000 non-null   int64  \n",
      " 23  GenderId                  3000 non-null   int64  \n",
      " 24  IAId                      3000 non-null   int64  \n",
      "dtypes: float64(9), int64(8), object(8)\n",
      "memory usage: 586.1+ KB\n",
      "None\n"
     ]
    }
   ],
   "source": [
    "print(\"Investment Advisors Info:\")\n",
    "print(investment_advisors.info())\n",
    "print(\"\\nBanking Relationships Info:\")\n",
    "print(banking_relationships.info())\n",
    "print(\"\\nGender Info:\")\n",
    "print(gender.info())\n",
    "print(\"\\nBanking Clients Info:\")\n",
    "print(banking_clients.info())"
   ]
  },
  {
   "cell_type": "code",
   "execution_count": 6,
   "id": "810213b8-d0bc-43a2-8411-3c9b1b909071",
   "metadata": {},
   "outputs": [
    {
     "name": "stdout",
     "output_type": "stream",
     "text": [
      "Investment Advisors Shape: (22, 2)\n",
      "Banking Relationships Shape: (4, 2)\n",
      "Gender Shape: (2, 2)\n",
      "Banking Clients Shape: (3000, 25)\n"
     ]
    }
   ],
   "source": [
    "print(\"Investment Advisors Shape:\", investment_advisors.shape)\n",
    "print(\"Banking Relationships Shape:\", banking_relationships.shape)\n",
    "print(\"Gender Shape:\", gender.shape)\n",
    "print(\"Banking Clients Shape:\", banking_clients.shape)"
   ]
  },
  {
   "cell_type": "code",
   "execution_count": 7,
   "id": "087ef7ca-9472-4636-bff2-111bf14c9301",
   "metadata": {},
   "outputs": [
    {
     "name": "stdout",
     "output_type": "stream",
     "text": [
      "Banking Clients Descriptive Statistics:\n",
      "               Age   Location ID  Estimated Income  Superannuation Savings  \\\n",
      "count  3000.000000   3000.000000       3000.000000             3000.000000   \n",
      "mean     51.039667  21563.323000     171305.034263            25531.599673   \n",
      "std      19.854760  12462.273017     111935.808209            16259.950770   \n",
      "min      17.000000     12.000000      15919.480000             1482.030000   \n",
      "25%      34.000000  10803.500000      82906.595000            12513.775000   \n",
      "50%      51.000000  21129.500000     142313.480000            22357.355000   \n",
      "75%      69.000000  32054.500000     242290.305000            35464.740000   \n",
      "max      85.000000  43369.000000     522330.260000            75963.900000   \n",
      "\n",
      "       Amount of Credit Cards  Credit Card Balance    Bank Loans  \\\n",
      "count             3000.000000          3000.000000  3.000000e+03   \n",
      "mean                 1.463667          3176.206943  5.913862e+05   \n",
      "std                  0.676387          2497.094709  4.575570e+05   \n",
      "min                  1.000000             1.170000  0.000000e+00   \n",
      "25%                  1.000000          1236.630000  2.396281e+05   \n",
      "50%                  1.000000          2560.805000  4.797934e+05   \n",
      "75%                  2.000000          4522.632500  8.258130e+05   \n",
      "max                  3.000000         13991.990000  2.667557e+06   \n",
      "\n",
      "       Bank Deposits  Checking Accounts  Saving Accounts  \\\n",
      "count   3.000000e+03       3.000000e+03     3.000000e+03   \n",
      "mean    6.715602e+05       3.210929e+05     2.329084e+05   \n",
      "std     6.457169e+05       2.820796e+05     2.300078e+05   \n",
      "min     0.000000e+00       0.000000e+00     0.000000e+00   \n",
      "25%     2.044004e+05       1.199475e+05     7.479440e+04   \n",
      "50%     4.633165e+05       2.428157e+05     1.640866e+05   \n",
      "75%     9.427546e+05       4.348749e+05     3.155750e+05   \n",
      "max     3.890598e+06       1.969923e+06     1.724118e+06   \n",
      "\n",
      "       Foreign Currency Account  Business Lending  Properties Owned  \\\n",
      "count               3000.000000      3.000000e+03       3000.000000   \n",
      "mean               29883.529993      8.667598e+05          1.518667   \n",
      "std                23109.924010      6.412303e+05          1.102145   \n",
      "min                   45.000000      0.000000e+00          0.000000   \n",
      "25%                11916.542500      3.748251e+05          1.000000   \n",
      "50%                24341.190000      7.113147e+05          2.000000   \n",
      "75%                41966.392500      1.185110e+06          2.000000   \n",
      "max               124704.870000      3.825962e+06          3.000000   \n",
      "\n",
      "       Risk Weighting         BRId     GenderId         IAId  \n",
      "count     3000.000000  3000.000000  3000.000000  3000.000000  \n",
      "mean         2.249333     2.559333     1.504000    10.425333  \n",
      "std          1.131191     1.007713     0.500067     5.988242  \n",
      "min          1.000000     1.000000     1.000000     1.000000  \n",
      "25%          1.000000     2.000000     1.000000     5.000000  \n",
      "50%          2.000000     3.000000     2.000000    10.000000  \n",
      "75%          3.000000     3.000000     2.000000    15.000000  \n",
      "max          5.000000     4.000000     2.000000    22.000000  \n"
     ]
    }
   ],
   "source": [
    "print(\"Banking Clients Descriptive Statistics:\")\n",
    "print(banking_clients.describe())"
   ]
  },
  {
   "cell_type": "markdown",
   "id": "64abc635-94cd-4ad8-8e1f-662264247694",
   "metadata": {},
   "source": [
    "### Check for Missing Values"
   ]
  },
  {
   "cell_type": "code",
   "execution_count": 8,
   "id": "172c88d4-ef04-44f8-a6a6-599fed9ba867",
   "metadata": {},
   "outputs": [
    {
     "name": "stdout",
     "output_type": "stream",
     "text": [
      "Missing Values in Banking Clients:\n",
      "Client ID                   0\n",
      "Name                        0\n",
      "Age                         0\n",
      "Location ID                 0\n",
      "Joined Bank                 0\n",
      "Banking Contact             0\n",
      "Nationality                 0\n",
      "Occupation                  0\n",
      "Fee Structure               0\n",
      "Loyalty Classification      0\n",
      "Estimated Income            0\n",
      "Superannuation Savings      0\n",
      "Amount of Credit Cards      0\n",
      "Credit Card Balance         0\n",
      "Bank Loans                  0\n",
      "Bank Deposits               0\n",
      "Checking Accounts           0\n",
      "Saving Accounts             0\n",
      "Foreign Currency Account    0\n",
      "Business Lending            0\n",
      "Properties Owned            0\n",
      "Risk Weighting              0\n",
      "BRId                        0\n",
      "GenderId                    0\n",
      "IAId                        0\n",
      "dtype: int64\n"
     ]
    }
   ],
   "source": [
    "print(\"Missing Values in Banking Clients:\")\n",
    "print(banking_clients.isnull().sum())"
   ]
  },
  {
   "cell_type": "markdown",
   "id": "47dd8a65-2621-437a-ad0c-f417bee7aba6",
   "metadata": {},
   "source": [
    "### Check for Duplicates"
   ]
  },
  {
   "cell_type": "code",
   "execution_count": 9,
   "id": "f4ff6895-c852-40cc-a819-5d3a4ffb8db3",
   "metadata": {},
   "outputs": [
    {
     "name": "stdout",
     "output_type": "stream",
     "text": [
      "Duplicate Rows in Banking Clients: 0\n"
     ]
    }
   ],
   "source": [
    "print(\"Duplicate Rows in Banking Clients:\", banking_clients.duplicated().sum())"
   ]
  },
  {
   "cell_type": "code",
   "execution_count": 10,
   "id": "e2138009-cd99-455d-aff3-fb62ff19a2db",
   "metadata": {},
   "outputs": [],
   "source": [
    "banking_clients.drop_duplicates(inplace=True)"
   ]
  },
  {
   "cell_type": "code",
   "execution_count": 11,
   "id": "87ac25fe-c3b5-4061-8ef4-607a55cb88c8",
   "metadata": {},
   "outputs": [],
   "source": [
    "banking_clients['Joined Bank'] = pd.to_datetime(banking_clients['Joined Bank'], format='%d-%m-%Y')"
   ]
  },
  {
   "cell_type": "code",
   "execution_count": 13,
   "id": "13b50e85-e800-483c-8415-bac19b1b13e3",
   "metadata": {},
   "outputs": [
    {
     "name": "stdout",
     "output_type": "stream",
     "text": [
      "Invalid GenderId entries:\n",
      "Empty DataFrame\n",
      "Columns: [Client ID, GenderId]\n",
      "Index: []\n",
      "Invalid BRId entries:\n",
      "Empty DataFrame\n",
      "Columns: [Client ID, BRId]\n",
      "Index: []\n",
      "Invalid IAId entries:\n",
      "Empty DataFrame\n",
      "Columns: [Client ID, IAId]\n",
      "Index: []\n"
     ]
    }
   ],
   "source": [
    "# Check if GenderId values are valid\n",
    "valid_gender_ids = gender['GenderId'].values\n",
    "invalid_gender = banking_clients[~banking_clients['GenderId'].isin(valid_gender_ids)]\n",
    "print(\"Invalid GenderId entries:\")\n",
    "print(invalid_gender[['Client ID', 'GenderId']])\n",
    "\n",
    "# Check if BRId values are valid\n",
    "valid_br_ids = banking_relationships['BRId'].values\n",
    "invalid_br = banking_clients[~banking_clients['BRId'].isin(valid_br_ids)]\n",
    "print(\"Invalid BRId entries:\")\n",
    "print(invalid_br[['Client ID', 'BRId']])\n",
    "\n",
    "# Check if IAId values are valid\n",
    "valid_ia_ids = investment_advisors['IAId'].values\n",
    "invalid_ia = banking_clients[~banking_clients['IAId'].isin(valid_ia_ids)]\n",
    "print(\"Invalid IAId entries:\")\n",
    "print(invalid_ia[['Client ID', 'IAId']])"
   ]
  },
  {
   "cell_type": "code",
   "execution_count": 14,
   "id": "cd4c0262-1216-4685-b7aa-84fe8d123fa7",
   "metadata": {},
   "outputs": [],
   "source": [
    "banking_clients.loc[~banking_clients['GenderId'].isin(valid_gender_ids), 'GenderId'] = 1"
   ]
  },
  {
   "cell_type": "code",
   "execution_count": 15,
   "id": "bc6716d1-d0eb-4a17-9d98-639d6224ba11",
   "metadata": {},
   "outputs": [
    {
     "name": "stdout",
     "output_type": "stream",
     "text": [
      "Unique Nationalities: ['American' 'African' 'European' 'Asian' 'Australian']\n",
      "Unique Occupations: ['Safety Technician IV' 'Software Consultant' 'Help Desk Operator'\n",
      " 'Geologist II' 'Assistant Professor' 'Help Desk Technician'\n",
      " 'Account Coordinator' 'Automation Specialist II'\n",
      " 'Software Test Engineer II' 'Geologist III' 'Administrative Officer'\n",
      " 'Database Administrator II' 'Staff Scientist' 'Programmer I'\n",
      " 'Software Test Engineer I' 'Actuary' 'Staff Accountant II'\n",
      " 'Assistant Media Planner' 'Staff Accountant I' 'Compensation Analyst'\n",
      " 'Geologist I' 'Web Designer II' 'Media Manager IV'\n",
      " 'Accounting Assistant II' 'Programmer II' 'Administrative Assistant IV'\n",
      " 'Geological Engineer' 'Junior Executive' 'Biostatistician IV'\n",
      " 'Internal Auditor' 'Chemical Engineer' 'Accountant III'\n",
      " 'Registered Nurse' 'Cost Accountant' 'Developer IV' 'Software Engineer I'\n",
      " 'Accountant I' 'Automation Specialist IV' 'Biostatistician I' 'Nurse'\n",
      " 'Human Resources Manager' 'Analyst Programmer'\n",
      " 'Database Administrator III' 'Web Designer III' 'Senior Editor'\n",
      " 'Health Coach III' 'Web Developer I' 'Systems Administrator III'\n",
      " 'Biostatistician III' 'Project Manager' 'Software Engineer III'\n",
      " 'Engineer III' 'Health Coach I' 'Human Resources Assistant I'\n",
      " 'Sales Associate' 'Accounting Assistant III' 'Dental Hygienist'\n",
      " 'Engineer IV' 'Accountant II' 'Software Engineer II' 'Health Coach IV'\n",
      " 'Associate Professor' 'Computer Systems Analyst I' 'Electrical Engineer'\n",
      " 'Statistician I' 'Programmer Analyst III' 'Human Resources Assistant II'\n",
      " 'Administrative Assistant I' 'Geologist IV' 'Technical Writer'\n",
      " 'Recruiter' 'Web Developer III' 'Senior Developer' 'Office Assistant II'\n",
      " 'Operator' 'Web Designer I' 'Editor' 'Analog Circuit Design manager'\n",
      " 'VP Marketing' 'Civil Engineer' 'Media Manager I'\n",
      " 'Senior Quality Engineer' 'Software Test Engineer III' 'VP Accounting'\n",
      " 'Information Systems Manager' 'Programmer Analyst II'\n",
      " 'Accounting Assistant IV' 'Programmer Analyst IV'\n",
      " 'Computer Systems Analyst IV' 'Speech Pathologist' 'Statistician IV'\n",
      " 'Paralegal' 'Systems Administrator IV' 'Budget/Accounting Analyst I'\n",
      " 'Senior Financial Analyst' 'Product Engineer' 'Data Coordiator'\n",
      " 'Account Representative I' 'Health Coach II'\n",
      " 'Administrative Assistant II' 'Staff Accountant III'\n",
      " 'Mechanical Systems Engineer' 'Automation Specialist III'\n",
      " 'VP Product Management' 'Business Systems Development Analyst' 'Teacher'\n",
      " 'Marketing Assistant' 'Structural Engineer' 'Research Associate'\n",
      " 'Quality Control Specialist' 'Environmental Specialist'\n",
      " 'Structural Analysis Engineer' 'Pharmacist' 'Developer I'\n",
      " 'Web Developer II' 'Payment Adjustment Coordinator' 'Account Executive'\n",
      " 'Software Test Engineer IV' 'Social Worker' 'Statistician III'\n",
      " 'Community Outreach Specialist' 'Financial Advisor' 'Research Nurse'\n",
      " 'Research Assistant II' 'Research Assistant I' 'Media Manager III'\n",
      " 'Media Manager II' 'Developer II' 'Software Engineer IV'\n",
      " 'Quality Engineer' 'Human Resources Assistant IV' 'Tax Accountant'\n",
      " 'Database Administrator I' 'Marketing Manager' 'VP Quality Control'\n",
      " 'Safety Technician I' 'Budget/Accounting Analyst II'\n",
      " 'Chief Design Engineer' 'Budget/Accounting Analyst IV' 'VP Sales'\n",
      " 'Office Assistant I' 'Food Chemist' 'Assistant Manager' 'Developer III'\n",
      " 'Computer Systems Analyst II' 'Safety Technician III'\n",
      " 'Executive Secretary' 'Librarian' 'Accountant IV'\n",
      " 'Nuclear Power Engineer' 'Director of Sales' 'Statistician II'\n",
      " 'Accounting Assistant I' 'Office Assistant IV'\n",
      " 'Account Representative II' 'Programmer Analyst I'\n",
      " 'Research Assistant IV' 'Environmental Tech'\n",
      " 'Administrative Assistant III' 'Graphic Designer'\n",
      " 'Account Representative III' 'Professor' 'Office Assistant III'\n",
      " 'Physical Therapy Assistant' 'Computer Systems Analyst III'\n",
      " 'Legal Assistant' 'Staff Accountant IV' 'Research Assistant III'\n",
      " 'Systems Administrator I' 'Design Engineer' 'Financial Analyst'\n",
      " 'Budget/Accounting Analyst III' 'Web Designer IV'\n",
      " 'Human Resources Assistant III' 'Engineer I' 'Programmer IV'\n",
      " 'Account Representative IV' 'Web Developer IV' 'Programmer III'\n",
      " 'Occupational Therapist' 'Database Administrator IV'\n",
      " 'Systems Administrator II' 'Engineer II' 'Clinical Specialist'\n",
      " 'Desktop Support Technician' 'Biostatistician II'\n",
      " 'Senior Cost Accountant' 'GIS Technical Architect' 'General Manager'\n",
      " 'Nurse Practicioner' 'Recruiting Manager' 'Safety Technician II'\n",
      " 'Sales Representative' 'Automation Specialist I' 'Senior Sales Associate']\n",
      "Unique Fee Structures: ['High' 'Mid' 'Low']\n",
      "Unique Loyalty Classifications: ['Jade' 'Gold' 'Silver' 'Platinum']\n"
     ]
    }
   ],
   "source": [
    "print(\"Unique Nationalities:\", banking_clients['Nationality'].unique())\n",
    "print(\"Unique Occupations:\", banking_clients['Occupation'].unique())\n",
    "print(\"Unique Fee Structures:\", banking_clients['Fee Structure'].unique())\n",
    "print(\"Unique Loyalty Classifications:\", banking_clients['Loyalty Classification'].unique())"
   ]
  },
  {
   "cell_type": "code",
   "execution_count": 16,
   "id": "720fe915-f1b2-44e7-9144-054948043c3b",
   "metadata": {},
   "outputs": [],
   "source": [
    "banking_clients['Nationality'] = banking_clients['Nationality'].str.title()"
   ]
  },
  {
   "cell_type": "code",
   "execution_count": 17,
   "id": "f013463f-edaf-4b53-8b44-143c5d83c6ff",
   "metadata": {},
   "outputs": [
    {
     "name": "stdout",
     "output_type": "stream",
     "text": [
      "Outliers in Estimated Income:\n",
      "     Client ID  Estimated Income\n",
      "26    IND98618         502309.08\n",
      "208   IND86081         502742.17\n",
      "318   IND49172         492748.51\n",
      "507   IND36415         484083.74\n",
      "975   IND79409         483509.98\n",
      "1017  IND17839         520192.44\n",
      "1093  IND48208         520328.35\n",
      "1138  IND72949         491294.82\n",
      "1179  IND96098         510066.30\n",
      "1189  IND70814         521159.98\n",
      "1279  IND86610         522330.26\n",
      "1361  IND98826         506206.08\n",
      "1476  IND47563         514809.57\n",
      "1537  IND96715         512987.80\n",
      "1562  IND15624         491409.52\n",
      "1583  IND45884         488895.36\n",
      "1609  IND68824         484691.00\n",
      "1783  IND85690         488443.97\n",
      "1819  IND91720         513292.88\n",
      "2092  IND91488         487056.88\n",
      "2272  IND23940         483167.34\n",
      "2372  IND72578         502062.25\n",
      "2397  IND84879         482954.96\n",
      "2411  IND62941         511043.93\n",
      "2460  IND97771         503138.53\n",
      "2465  IND85022         514507.79\n"
     ]
    }
   ],
   "source": [
    "# Calculate IQR for Estimated Income\n",
    "Q1 = banking_clients['Estimated Income'].quantile(0.25)\n",
    "Q3 = banking_clients['Estimated Income'].quantile(0.75)\n",
    "IQR = Q3 - Q1\n",
    "lower_bound = Q1 - 1.5 * IQR\n",
    "upper_bound = Q3 + 1.5 * IQR\n",
    "\n",
    "outliers = banking_clients[(banking_clients['Estimated Income'] < lower_bound) | (banking_clients['Estimated Income'] > upper_bound)]\n",
    "print(\"Outliers in Estimated Income:\")\n",
    "print(outliers[['Client ID', 'Estimated Income']])"
   ]
  },
  {
   "cell_type": "code",
   "execution_count": 18,
   "id": "fb9618e8-f269-4a31-8374-687908361bab",
   "metadata": {},
   "outputs": [],
   "source": [
    "banking_clients['Estimated Income'] = banking_clients['Estimated Income'].clip(lower=lower_bound, upper=upper_bound)"
   ]
  },
  {
   "cell_type": "code",
   "execution_count": 22,
   "id": "22e27010-efd7-466c-8978-b1d01da7a30d",
   "metadata": {
    "scrolled": true
   },
   "outputs": [
    {
     "name": "stdout",
     "output_type": "stream",
     "text": [
      "Banking Clients Columns: ['Client ID', 'Name', 'Age', 'Location ID', 'Joined Bank', 'Banking Contact', 'Nationality', 'Occupation', 'Fee Structure', 'Loyalty Classification', 'Estimated Income', 'Superannuation Savings', 'Amount of Credit Cards', 'Credit Card Balance', 'Bank Loans', 'Bank Deposits', 'Checking Accounts', 'Saving Accounts', 'Foreign Currency Account', 'Business Lending', 'Properties Owned', 'Risk Weighting', 'BRId', 'GenderId', 'IAId']\n",
      "Investment Advisors Columns: ['IAId', 'Investment Advisor']\n"
     ]
    }
   ],
   "source": [
    "print(\"Banking Clients Columns:\", banking_clients.columns.tolist())\n",
    "print(\"Investment Advisors Columns:\", investment_advisors.columns.tolist())"
   ]
  },
  {
   "cell_type": "code",
   "execution_count": 23,
   "id": "ae9d405f-105b-4437-bbd0-3bd49c68c231",
   "metadata": {},
   "outputs": [],
   "source": [
    "# Standardize column names to lowercase with underscores\n",
    "banking_clients.columns = banking_clients.columns.str.lower().str.replace(' ', '_')\n",
    "investment_advisors.columns = investment_advisors.columns.str.lower().str.replace(' ', '_')\n",
    "banking_relationships.columns = banking_relationships.columns.str.lower().str.replace(' ', '_')\n",
    "gender.columns = gender.columns.str.lower().str.replace(' ', '_')\n",
    "\n",
    "# Explicitly rename IAId to iaid if it exists\n",
    "if 'IAId' in banking_clients.columns:\n",
    "    banking_clients.rename(columns={'IAId': 'iaid'}, inplace=True)\n",
    "if 'IAId' in investment_advisors.columns:\n",
    "    investment_advisors.rename(columns={'IAId': 'iaid'}, inplace=True)\n",
    "if 'BRId' in banking_clients.columns:\n",
    "    banking_clients.rename(columns={'BRId': 'brid'}, inplace=True)\n",
    "if 'GenderId' in banking_clients.columns:\n",
    "    banking_clients.rename(columns={'GenderId': 'genderid'}, inplace=True)"
   ]
  },
  {
   "cell_type": "markdown",
   "id": "7b73cbdc-a6dc-4cef-8cae-08d8f3ae05b8",
   "metadata": {},
   "source": [
    "### Merge Datasets for Consistency"
   ]
  },
  {
   "cell_type": "code",
   "execution_count": 24,
   "id": "ea644ea4-87f7-4e0e-9d4c-fcf34bede872",
   "metadata": {},
   "outputs": [],
   "source": [
    "# Merge with investment advisors\n",
    "banking_clients = banking_clients.merge(investment_advisors, on='iaid', how='left')\n",
    "\n",
    "# Merge with banking relationships\n",
    "banking_clients = banking_clients.merge(banking_relationships, on='brid', how='left')\n",
    "\n",
    "# Merge with gender\n",
    "banking_clients = banking_clients.merge(gender, on='genderid', how='left')"
   ]
  },
  {
   "cell_type": "code",
   "execution_count": 25,
   "id": "8fd7d1ad-bb9f-4805-975e-586d64d2e921",
   "metadata": {},
   "outputs": [],
   "source": [
    "banking_clients.drop(['iaid', 'brid', 'genderid'], axis=1, inplace=True)"
   ]
  },
  {
   "cell_type": "code",
   "execution_count": 26,
   "id": "fcc5e3b8-bdab-453a-aa8b-9a3685eb37d4",
   "metadata": {},
   "outputs": [
    {
     "name": "stdout",
     "output_type": "stream",
     "text": [
      "  client_id             name  age  location_id joined_bank   banking_contact  \\\n",
      "0  IND81288    Raymond Mills   24        34324  2019-05-06    Anthony Torres   \n",
      "1  IND65833    Julia Spencer   23        42205  2001-12-10  Jonathan Hawkins   \n",
      "2  IND47499   Stephen Murray   27         7314  2010-01-25     Anthony Berry   \n",
      "3  IND72498   Virginia Garza   40        34594  2019-03-28        Steve Diaz   \n",
      "4  IND60181  Melissa Sanders   46        41269  2012-07-20        Shawn Long   \n",
      "\n",
      "  nationality            occupation fee_structure loyalty_classification  ...  \\\n",
      "0    American  Safety Technician IV          High                   Jade  ...   \n",
      "1     African   Software Consultant          High                   Jade  ...   \n",
      "2    European    Help Desk Operator          High                   Gold  ...   \n",
      "3    American          Geologist II           Mid                 Silver  ...   \n",
      "4    American   Assistant Professor           Mid               Platinum  ...   \n",
      "\n",
      "   bank_deposits  checking_accounts  saving_accounts  \\\n",
      "0     1485828.64          603617.88        607332.46   \n",
      "1      641482.79          229521.37        344635.16   \n",
      "2     1033401.59          652674.69        203054.35   \n",
      "3     1048157.49         1048157.49        234685.02   \n",
      "4      487782.53          446644.25        128351.45   \n",
      "\n",
      "   foreign_currency_account  business_lending  properties_owned  \\\n",
      "0                  12249.96        1134475.30                 1   \n",
      "1                  61162.31        2000526.10                 1   \n",
      "2                  79071.78         548137.58                 1   \n",
      "3                  57513.65        1148402.29                 0   \n",
      "4                  30012.14        1674412.12                 0   \n",
      "\n",
      "   risk_weighting  investment_advisor  banking_relationship  gender  \n",
      "0               2         Victor Dean                Retail    Male  \n",
      "1               3       Jeremy Porter         Institutional    Male  \n",
      "2               3       Ernest Knight          Private Bank  Female  \n",
      "3               4           Eric Shaw            Commercial    Male  \n",
      "4               3           Kevin Kim                Retail  Female  \n",
      "\n",
      "[5 rows x 25 columns]\n",
      "Shape after merge: (3000, 25)\n"
     ]
    }
   ],
   "source": [
    "print(banking_clients.head())\n",
    "print(\"Shape after merge:\", banking_clients.shape)"
   ]
  },
  {
   "cell_type": "code",
   "execution_count": 27,
   "id": "f4e10f6a-170d-4f2f-8e8c-4be42e6a563d",
   "metadata": {},
   "outputs": [],
   "source": [
    "banking_clients.to_csv('banking_clients_cleaned.csv', index=False)"
   ]
  },
  {
   "cell_type": "code",
   "execution_count": 35,
   "id": "bb7dc993-78d4-4e40-8700-af01f2f633ce",
   "metadata": {},
   "outputs": [],
   "source": [
    "if 'IAId' in banking_clients.columns:\n",
    "    banking_clients.rename(columns={'IAId': 'iaid'}, inplace=True)\n",
    "if 'IAId' in investment_advisors.columns:\n",
    "    investment_advisors.rename(columns={'IAId': 'iaid'}, inplace=True)\n",
    "if 'BRId' in banking_clients.columns:\n",
    "    banking_clients.rename(columns={'BRId': 'brid'}, inplace=True)\n",
    "if 'GenderId' in banking_clients.columns:\n",
    "    banking_clients.rename(columns={'GenderId': 'genderid'}, inplace=True)"
   ]
  },
  {
   "cell_type": "code",
   "execution_count": 43,
   "id": "6caa52bb-00b0-4126-b788-c49e1ca9cbd7",
   "metadata": {},
   "outputs": [],
   "source": [
    "# Clean investment_advisors\n",
    "investment_advisors.drop_duplicates(inplace=True)\n",
    "if not investment_advisors['iaid'].is_monotonic_increasing:\n",
    "    investment_advisors.sort_values('iaid', inplace=True)\n",
    "investment_advisors.to_csv('investment_advisors_cleaned.csv', index=False)"
   ]
  },
  {
   "cell_type": "code",
   "execution_count": 44,
   "id": "2f647b31-5b53-4e46-b01e-7abff59f1e4e",
   "metadata": {},
   "outputs": [],
   "source": [
    "# Clean banking_relationships\n",
    "banking_relationships.drop_duplicates(inplace=True)\n",
    "if not banking_relationships['brid'].is_monotonic_increasing:\n",
    "    banking_relationships.sort_values('brid', inplace=True)\n",
    "banking_relationships.to_csv('banking_relationships_cleaned.csv', index=False)"
   ]
  },
  {
   "cell_type": "code",
   "execution_count": 45,
   "id": "7a6c3cf5-e39e-46b6-8dae-d453b66c67f1",
   "metadata": {},
   "outputs": [],
   "source": [
    "gender.drop_duplicates(inplace=True)\n",
    "if not gender['genderid'].is_monotonic_increasing:\n",
    "    gender.sort_values('genderid', inplace=True)\n",
    "gender.to_csv('gender_cleaned.csv', index=False)"
   ]
  },
  {
   "cell_type": "code",
   "execution_count": 38,
   "id": "e1000d0f-2264-4cfb-83af-e4b8c6e7da30",
   "metadata": {},
   "outputs": [],
   "source": [
    "banking_clients['estimated_income'] = banking_clients['estimated_income'].clip(lower=lower_bound, upper=upper_bound)"
   ]
  },
  {
   "cell_type": "code",
   "execution_count": 40,
   "id": "0464594b-3c2d-4062-89d2-ba6ccd2b9a0d",
   "metadata": {},
   "outputs": [],
   "source": [
    "Q1 = banking_clients['estimated_income'].quantile(0.25)\n",
    "Q3 = banking_clients['estimated_income'].quantile(0.75)\n",
    "IQR = Q3 - Q1\n",
    "lower_bound = Q1 - 1.5 * IQR\n",
    "upper_bound = Q3 + 1.5 * IQR\n",
    "banking_clients['estimated_income'] = banking_clients['estimated_income'].clip(lower=lower_bound, upper=upper_bound)"
   ]
  },
  {
   "cell_type": "code",
   "execution_count": 41,
   "id": "424c07f3-7db7-409e-b3ce-14d068821c36",
   "metadata": {},
   "outputs": [],
   "source": [
    "investment_advisors_cleaned = pd.read_csv('investment_advisors_cleaned.csv')\n",
    "banking_relationships_cleaned = pd.read_csv('banking_relationships_cleaned.csv')\n",
    "gender_cleaned = pd.read_csv('gender_cleaned.csv')\n",
    "banking_clients_cleaned = pd.read_csv('banking_clients_cleaned.csv')"
   ]
  },
  {
   "cell_type": "code",
   "execution_count": 42,
   "id": "11a94ae8-3d2a-44bd-be24-8a08b95af787",
   "metadata": {},
   "outputs": [
    {
     "name": "stdout",
     "output_type": "stream",
     "text": [
      "Cleaned Investment Advisors:\n",
      "    iaid investment_advisor\n",
      "0      1        Victor Dean\n",
      "1      2      Jeremy Porter\n",
      "2      3      Ernest Knight\n",
      "3      4          Eric Shaw\n",
      "4      5          Kevin Kim\n",
      "5      6      Victor Rogers\n",
      "6      7  Eugene Cunningham\n",
      "7      8        Joe Carroll\n",
      "8      9      Steve Sanchez\n",
      "9     10   Lawrence Sanchez\n",
      "10    11     Peter Castillo\n",
      "11    12   Victor Gutierrez\n",
      "12    13     Daniel Carroll\n",
      "13    14      Carl Anderson\n",
      "14    15      Nicholas Ward\n",
      "15    16        Fred Bryant\n",
      "16    17        Ryan Taylor\n",
      "17    18       Sean Vasquez\n",
      "18    19  Nicholas Morrison\n",
      "19    20      Jack Phillips\n",
      "20    21       Juan Ramirez\n",
      "21    22       Gregory Boyd\n",
      "\n",
      "Cleaned Banking Relationships:\n",
      "   brid banking_relationship\n",
      "0     1               Retail\n",
      "1     2        Institutional\n",
      "2     3         Private Bank\n",
      "3     4           Commercial\n",
      "\n",
      "Cleaned Gender:\n",
      "   genderid  gender\n",
      "0         1    Male\n",
      "1         2  Female\n",
      "\n",
      "Cleaned Banking Clients Head:\n",
      "  client_id             name  age  location_id joined_bank   banking_contact  \\\n",
      "0  IND81288    Raymond Mills   24        34324  2019-05-06    Anthony Torres   \n",
      "1  IND65833    Julia Spencer   23        42205  2001-12-10  Jonathan Hawkins   \n",
      "2  IND47499   Stephen Murray   27         7314  2010-01-25     Anthony Berry   \n",
      "3  IND72498   Virginia Garza   40        34594  2019-03-28        Steve Diaz   \n",
      "4  IND60181  Melissa Sanders   46        41269  2012-07-20        Shawn Long   \n",
      "\n",
      "  nationality            occupation fee_structure loyalty_classification  ...  \\\n",
      "0    American  Safety Technician IV          High                   Jade  ...   \n",
      "1     African   Software Consultant          High                   Jade  ...   \n",
      "2    European    Help Desk Operator          High                   Gold  ...   \n",
      "3    American          Geologist II           Mid                 Silver  ...   \n",
      "4    American   Assistant Professor           Mid               Platinum  ...   \n",
      "\n",
      "   bank_deposits  checking_accounts  saving_accounts  \\\n",
      "0     1485828.64          603617.88        607332.46   \n",
      "1      641482.79          229521.37        344635.16   \n",
      "2     1033401.59          652674.69        203054.35   \n",
      "3     1048157.49         1048157.49        234685.02   \n",
      "4      487782.53          446644.25        128351.45   \n",
      "\n",
      "   foreign_currency_account  business_lending  properties_owned  \\\n",
      "0                  12249.96        1134475.30                 1   \n",
      "1                  61162.31        2000526.10                 1   \n",
      "2                  79071.78         548137.58                 1   \n",
      "3                  57513.65        1148402.29                 0   \n",
      "4                  30012.14        1674412.12                 0   \n",
      "\n",
      "   risk_weighting  investment_advisor  banking_relationship  gender  \n",
      "0               2         Victor Dean                Retail    Male  \n",
      "1               3       Jeremy Porter         Institutional    Male  \n",
      "2               3       Ernest Knight          Private Bank  Female  \n",
      "3               4           Eric Shaw            Commercial    Male  \n",
      "4               3           Kevin Kim                Retail  Female  \n",
      "\n",
      "[5 rows x 25 columns]\n",
      "Shape of cleaned Banking Clients: (3000, 25)\n"
     ]
    }
   ],
   "source": [
    "print(\"Cleaned Investment Advisors:\")\n",
    "print(investment_advisors_cleaned)\n",
    "print(\"\\nCleaned Banking Relationships:\")\n",
    "print(banking_relationships_cleaned)\n",
    "print(\"\\nCleaned Gender:\")\n",
    "print(gender_cleaned)\n",
    "print(\"\\nCleaned Banking Clients Head:\")\n",
    "print(banking_clients_cleaned.head())\n",
    "print(\"Shape of cleaned Banking Clients:\", banking_clients_cleaned.shape)"
   ]
  },
  {
   "cell_type": "code",
   "execution_count": null,
   "id": "63fb246f-9f0f-4c6b-825a-1a6d57e44da8",
   "metadata": {},
   "outputs": [],
   "source": []
  },
  {
   "cell_type": "code",
   "execution_count": null,
   "id": "602c1ce5-e000-428a-aa48-813f7326d9c7",
   "metadata": {},
   "outputs": [],
   "source": []
  },
  {
   "cell_type": "code",
   "execution_count": null,
   "id": "4dff1882-159c-48d8-81b4-db5adf3413b7",
   "metadata": {},
   "outputs": [],
   "source": []
  },
  {
   "cell_type": "code",
   "execution_count": null,
   "id": "a6547d11-4621-4f92-88b5-300129758c77",
   "metadata": {},
   "outputs": [],
   "source": []
  },
  {
   "cell_type": "code",
   "execution_count": null,
   "id": "95546963-e9a8-42bb-bfbd-581cad4dab6f",
   "metadata": {},
   "outputs": [],
   "source": []
  },
  {
   "cell_type": "code",
   "execution_count": null,
   "id": "71f9e8c9-f754-4f8c-a4e7-6c0e7f814882",
   "metadata": {},
   "outputs": [],
   "source": []
  },
  {
   "cell_type": "code",
   "execution_count": null,
   "id": "b94ef78b-94ba-41f3-a67d-fdaa4816107a",
   "metadata": {},
   "outputs": [],
   "source": []
  },
  {
   "cell_type": "code",
   "execution_count": null,
   "id": "38476523-2b5d-4db8-afe2-874a644fbd45",
   "metadata": {},
   "outputs": [],
   "source": []
  },
  {
   "cell_type": "code",
   "execution_count": null,
   "id": "262a0bc4-2ac4-4570-ad8a-7fc73807a25e",
   "metadata": {},
   "outputs": [],
   "source": []
  },
  {
   "cell_type": "code",
   "execution_count": null,
   "id": "48c25341-eac6-4313-965c-770e890950b1",
   "metadata": {},
   "outputs": [],
   "source": []
  },
  {
   "cell_type": "code",
   "execution_count": null,
   "id": "e462ef65-9b46-4c32-87ce-439ede9537e0",
   "metadata": {},
   "outputs": [],
   "source": []
  },
  {
   "cell_type": "code",
   "execution_count": null,
   "id": "0d4b02bf-3066-4fa1-877e-93592704af41",
   "metadata": {},
   "outputs": [],
   "source": []
  },
  {
   "cell_type": "code",
   "execution_count": null,
   "id": "60f7213a-7874-477c-808b-bb50adbd6d02",
   "metadata": {},
   "outputs": [],
   "source": []
  },
  {
   "cell_type": "code",
   "execution_count": null,
   "id": "fc6c5944-6d4e-4b6b-8dfa-3929fe05f50e",
   "metadata": {},
   "outputs": [],
   "source": []
  },
  {
   "cell_type": "code",
   "execution_count": null,
   "id": "829223da-2526-4ac5-875c-304ff25ddbe0",
   "metadata": {},
   "outputs": [],
   "source": []
  }
 ],
 "metadata": {
  "kernelspec": {
   "display_name": "Python 3 (ipykernel)",
   "language": "python",
   "name": "python3"
  },
  "language_info": {
   "codemirror_mode": {
    "name": "ipython",
    "version": 3
   },
   "file_extension": ".py",
   "mimetype": "text/x-python",
   "name": "python",
   "nbconvert_exporter": "python",
   "pygments_lexer": "ipython3",
   "version": "3.12.7"
  }
 },
 "nbformat": 4,
 "nbformat_minor": 5
}
